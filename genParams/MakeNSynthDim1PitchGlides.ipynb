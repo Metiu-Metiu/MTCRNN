{
 "cells": [
  {
   "cell_type": "markdown",
   "metadata": {},
   "source": [
    "external_array.npy must have the same shape as the input to the model, and have the same number of parameters as the model was trained on.  \n",
    "For example, the third dimension (inner most array) carries each paramter for a specific time:  \n",
    "foo = [[['p10', 'p20'], ['p11', 'p21'],['p12', 'p22'] ,['p13', 'p23']]]  \n",
    "  \n",
    "The sample rate and length in seconds are up to you, and must be provided in the arguments to generate.py  \n",
    "\n",
    "The notebook is just an assortment of different routines for creating patterns of parameters. for playing note arpeggios, melodies, or gliding around a 2D space to test the generative capabilities of the RNN.\n",
    "\n",
    "If you just run all the cells, the  #step glide  code segment will run to generate the param file, then read the file and plot the parameters.  \n",
    "\n",
    "If you want to generate LOTS of files, each with different constant parmeter values, see the companion notebook, \n",
    "MakeConditioningParamFiles.ipynb\n"
   ]
  },
  {
   "cell_type": "code",
   "execution_count": 6,
   "metadata": {},
   "outputs": [],
   "source": [
    "# parameters\n",
    "condsr = 1000 # the sample rate for the generated array to pass to generate.py\n",
    "numsecs = 1 # number of seconds to generate\n",
    "numDataPoints=numsecs*condsr"
   ]
  },
  {
   "cell_type": "code",
   "execution_count": 7,
   "metadata": {},
   "outputs": [],
   "source": [
    "# save numpy array as npy file\n",
    "import numpy as np\n",
    "from numpy import asarray\n",
    "from numpy import save\n",
    "# define data\n",
    "# data = asarray([[0, 1, 2, 3, 4, 5, 6, 7, 8, 9]])\n",
    "\n",
    "from matplotlib import pyplot as plt\n"
   ]
  },
  {
   "cell_type": "code",
   "execution_count": 8,
   "metadata": {},
   "outputs": [],
   "source": [
    "#utility\n",
    "def map(x,a,b,m,n) :\n",
    "    return m + (n-m)*(x-a)/(b-a)"
   ]
  },
  {
   "cell_type": "code",
   "execution_count": 10,
   "metadata": {},
   "outputs": [],
   "source": [
    "# for plotting in time\n",
    "t_values = np.linspace(0, numsecs, numDataPoints) #linspace is inclusive of endpoints\n"
   ]
  },
  {
   "cell_type": "code",
   "execution_count": 11,
   "metadata": {},
   "outputs": [],
   "source": [
    "# functions for conditioning parameter gestures\n",
    "# These control sequences get upsampled to audiosr in the generate.py code, so don't need high sr here.\n",
    "def linear(x, m, b=0) :\n",
    "    return m*x+b  \n",
    "\n",
    "def gaussian(x, mu, sig):\n",
    "    return np.exp(-np.power(x - mu, 2.) / (2 * np.power(sig, 2.)))\n",
    "\n",
    "def step(x, a, b, m, n, numsteps) :  # 1 means function in constant, \n",
    "    assert numsteps > 0\n",
    "    stepLen=(b-a)/numsteps\n",
    "    stepNum=(x-a)//stepLen\n",
    "    stepHeight=467 if (numsteps == 0) else (n-m)/(numsteps-1)\n",
    "    return m+stepNum*stepHeight\n",
    "\n",
    "\n",
    "'''\n",
    "arr elements must be in [plow, phigh] \n",
    "'''\n",
    "def normedValSeq(arr, plow, phigh, samps) :\n",
    "    farr=[(n-plow)/(phigh-plow) for n in arr]\n",
    "    alen=len(farr)\n",
    "    fsampspernote=samps/alen\n",
    "    # each note will have an duration equal to the rest within 1 sample\n",
    "    return [farr[int((n)//fsampspernote)] for n in range(samps)]\n",
    "\n",
    "'''\n",
    "This creates a sequence of length sum(durseq), where each element in shorseq \n",
    "is duplicated by the correspeonding number in durseq.\n",
    "'''\n",
    "def spread(shortseq,durseq) :\n",
    "    out=np.empty(0)\n",
    "    for n in range(len(durseq)) :\n",
    "        out = np.append(out, np.full(durseq[n],shortseq[n]))\n",
    "    return out\n",
    "\n",
    "\n",
    "'''\n",
    "This creates a sequence of linear 0-1 interpolates of durations specified by durseq.\n",
    "'''\n",
    "def envSeq(durseq) :\n",
    "    out=np.empty(0)\n",
    "    for n in range(len(durseq)) :\n",
    "        out = np.append(out, np.linspace(0,1,durseq[n],True))\n",
    "    return out\n",
    "        "
   ]
  },
  {
   "cell_type": "markdown",
   "metadata": {},
   "source": [
    "<img src=\"resources/rhapsody.jpeg\">"
   ]
  },
  {
   "cell_type": "markdown",
   "metadata": {},
   "source": [
    "We have notes 56-76. We'll call that high 'c' 76, so the ending 'g' is 59. So:\n",
    "59-(glide)76 [2] 79[2 tr] 74[.3] 72[.3] 74[.3] 72[.3] 74[.3] 72[.3] |   \n",
    "71[.5] 69[.5] 68[.5] 67[1] 69[.5] 70[.5] 71[1]  \n",
    "68[.5] 64[.25] 66[.25] 64[.25] 63[.25] 62[1] 60[.5] 59[.5] 59[3.5]"
   ]
  },
  {
   "cell_type": "code",
   "execution_count": 135,
   "metadata": {},
   "outputs": [],
   "source": [
    "def rblueextended(t) :\n",
    "    if t < 2 : \n",
    "        tt=map(t,0,2,0,2)\n",
    "        return 59+(1+np.cos(np.pi*2*(1.5*tt*tt)))\n",
    "    if t < 4 :\n",
    "        return map(t,2,4,59,76)\n",
    "    if t < 6 :\n",
    "        tt=map(t,4,6,0,1)\n",
    "        return 76+(-1+np.cos(np.pi*2*(3*tt*tt)))\n",
    "    if t < 6.3333 :\n",
    "        return 74\n",
    "    if t < 6.6666 :\n",
    "        return 72\n",
    "    if t < 7 :\n",
    "        return 74\n",
    "    if t < 7.3333 :\n",
    "        return 72\n",
    "    if t < 7.6666 :\n",
    "        return 74\n",
    "    if t < 8 :\n",
    "        return 72\n",
    "    \n",
    "    # measure 2\n",
    "    if t < 8.5 :\n",
    "        return 71\n",
    "    if t < 9 :\n",
    "        return 69\n",
    "    if t < 9.5 :\n",
    "        return 68\n",
    "    if t < 10.5 : #tied\n",
    "        return 67\n",
    "    if t < 11 :\n",
    "        return 69 #(e natural)\n",
    "    if t < 11.5 :\n",
    "        return 70\n",
    "    if t < 12.5 : #tied\n",
    "        return 71\n",
    "    if t < 13 :\n",
    "        # 68[.5] \n",
    "        return 68  #eb\n",
    "    if t < 13.125 : \n",
    "        #64[.25] \n",
    "        return 64\n",
    "    if t < 13.25 : \n",
    "        #66[.25] \n",
    "        return 66\n",
    "    if t < 13.375 : \n",
    "        #64[.25] \n",
    "        return 64\n",
    "    if t < 13.5 : \n",
    "        #63[.25] \n",
    "        return 63\n",
    "    if t < 14.5 : \n",
    "        #62[1] \n",
    "        return 62\n",
    "    if t < 15 : \n",
    "        #60[.5] 59[.5] 59[3.5]\n",
    "        return 60\n",
    "    if t < 15.5 : \n",
    "        #59[.5] \n",
    "        return 59\n",
    "    if t < 17 : \n",
    "        return 59\n",
    "    if t<=19 :\n",
    "        tt=map(t,17,19,0,1)\n",
    "        return 59+.5*np.sin(np.pi*2*(4*tt)) # .35*(1-np.cos(np.pi*2*(2*tt)))\n"
   ]
  },
  {
   "cell_type": "code",
   "execution_count": 136,
   "metadata": {},
   "outputs": [],
   "source": [
    "# 76 Bb (We are transposing Rhapsody in blue  from Bb to E!)\n",
    "# 75 A\n",
    "# 74 Ab\n",
    "# 73 G\n",
    "# 72 \n",
    "# 71 F\n",
    "# 70 \n",
    "# 69 Eb\n",
    "# 68 D\n",
    "# 67 \n",
    "# 66 C\n",
    "# 65 \n",
    "# 64 Bb\n",
    "# Rhapsody in Blue\n",
    "def rblue(t) :\n",
    "    if t < 2 :\n",
    "        return map(t,0,2,64,76)\n",
    "    if t < 4 :\n",
    "        tt=map(t,2,4,0,1)\n",
    "        return 76+(-1+np.cos(np.pi*2*(4.5*tt*tt)))\n",
    "    if t < 4.3333 :\n",
    "        return 74\n",
    "    if t < 4.6666 :\n",
    "        return 72\n",
    "    if t < 5 :\n",
    "        return 74\n",
    "    if t < 5.3333 :\n",
    "        return 72\n",
    "    if t < 5.6666 :\n",
    "        return 74\n",
    "    if t < 6 :\n",
    "        return 72\n",
    "    \n",
    "    # measure 2\n",
    "    if t < 6.5 :\n",
    "        return 71\n",
    "    if t < 7 :\n",
    "        return 69\n",
    "    if t < 7.5 :\n",
    "        return 68\n",
    "    if t < 8.5 : #tied\n",
    "        return 67\n",
    "    if t < 9 :\n",
    "        return 69\n",
    "    if t < 9.5 :\n",
    "        return 70\n",
    "    if t < 10.5 : #tied\n",
    "        return 71\n",
    "    if t < 11 :\n",
    "        return 68\n",
    "    if t < 11.5 :\n",
    "        return 66\n",
    "    tt=map(t,12,14,0,1)\n",
    "    return 64+.15*np.sin(np.pi*2*(4*tt)) # .35*(1-np.cos(np.pi*2*(2*tt)))\n",
    "    \n",
    "        \n",
    "        "
   ]
  },
  {
   "cell_type": "code",
   "execution_count": 137,
   "metadata": {},
   "outputs": [],
   "source": [
    "if False :\n",
    "    # map t_values to x_values to pass to your function\n",
    "    #   or just create your x_values to have the same length as t_values\n",
    "\n",
    "    #x_values=[map(item,0,numsecs,0, 1) for item in t_values]\n",
    "    #x_values = np.linspace(0, 1, numDataPoints) #linspace is inclusive of endpoints\n",
    "    #data = [linear(x, -1,1) for x in x_values]\n",
    "\n",
    "\n",
    "    #x_values=[map(item,0,numsecs,-3, 3) for item in t_values]\n",
    "    #x_values = np.linspace(-3,  3, numDataPoints) #linspace is inclusive of endpoints\n",
    "    #data = [[[gaussian(x, 0, 1)] for x in x_values]]\n",
    "\n",
    "    #x_values = np.linspace(0,  1, numDataPoints, endpoint = False) #linspace is b default inclusive of endpoints\n",
    "    #data = [[[step(x, 0, 1, -6,6,3)] for x in x_values]]\n",
    "\n",
    "    #  CONSTANT\n",
    "    #data = [[[aparam] for t in t_values]]\n",
    "\n",
    "    ###########################  2D #######################################\n",
    "    # one gausian, one constant\n",
    "    #x_values = np.linspace(-3,  3, numDataPoints) #linspace is inclusive of endpoints\n",
    "    #data = [[[.5, gaussian(x, 0, 1)] for x in x_values]]\n",
    "\n",
    "    # both constant\n",
    "    #for vibrato, p1 is vibrato, and p2 is depth\n",
    "    #data = [[[.47, 1] for x in x_values]]   #because of that damn nonlinear scaling we used for vibrato\n",
    "    #data = [[[1, .47] for x in x_values]]\n",
    "\n",
    "    ###########################  3D #######################################\n",
    "    #x_values = np.linspace(-3,  3, numDataPoints) #linspace is inclusive of endpoints\n",
    "    #data = [[[1,.8, gaussian(x, 0, 1)] for x in x_values]]\n",
    "\n",
    "\n",
    "    #===========================================================================================\n",
    "    # rhapsody1\n",
    "    noteseq=[rblue(t) for t in np.linspace(0, 14, numDataPoints)]\n",
    "    normedValSeq=normedValSeq(noteseq,64,76,numDataPoints)\n",
    "    d0=np.array([ normedValSeq[i] for i in range(numDataPoints)])\n",
    "    d1=(np.linspace(0,1, numDataPoints, True))\n",
    "    data = [np.stack((d0,d1), 1)]\n",
    "    outdir = 'scratch/rhapsody_1000samps.npy' # the file name for the generated array to pass to generate.py\n",
    "    #===========================================================================================\n",
    "    # rhapsody2\n",
    "    noteseq=[rblueextended(t) for t in np.linspace(0, 19, numDataPoints)]\n",
    "    normedValSeq=normedValSeq(noteseq,56,76,numDataPoints)\n",
    "    d0=np.array([ normedValSeq[i] for i in range(numDataPoints)])\n",
    "    d1=(np.linspace(1,0, numDataPoints, True))\n",
    "    data = [np.stack((d0,d1), 1)]\n",
    "    outdir = 'scratch/rhapsody2_extended_1000samps.npy' # the file name for the generated array to pass to generate.py\n",
    "\n",
    "\n",
    "if False :\n",
    "# Responsiveness tests\n",
    "    # -- arpeggio up glide down\n",
    "    noteseq=[64,68,71,76]\n",
    "    normedValSeq=normedValSeq(noteseq,64,76,int(numDataPoints/2))\n",
    "    sampledseq=np.array([normedValSeq[i] for i in range(int(numDataPoints/2))])\n",
    "    #print(f\"sampledseq = {sampledseq}\")\n",
    "    #print(f\"linspace = {np.linspace(1,0, int(numDataPoints/2), False)}\")\n",
    "    d0=np.concatenate((sampledseq, np.linspace(1,0, int(numDataPoints/2), False)))\n",
    "    data=[[[ d0[i],0] for i in range(numDataPoints)]]\n",
    "    outdir = 'scratch/responseiveness_i0.arpeggio_then_glide.npy'\n",
    "    \n",
    "    #step glide\n",
    "    noteseq=[71]\n",
    "    normedValSeq=normedValSeq(noteseq,64,76,int(numDataPoints))\n",
    "    sampledseq=np.array([normedValSeq[i] for i in range(numDataPoints)])\n",
    "    d1=np.concatenate((np.linspace(0,0, int(numDataPoints/8), False), np.linspace(1,1,int(numDataPoints/4),False), np.linspace(0,0, int(numDataPoints/8), False), np.linspace(0,1,int(numDataPoints/4),False), np.linspace(1,0,int(numDataPoints/4),False)))\n",
    "    data=[[[ sampledseq[i],d1[i]] for i in range(numDataPoints)]]\n",
    "    outdir = 'scratch/responseiveness_inst_step_then_glide.npy'\n",
    "    save(outdir, data)\n",
    "\n",
    "#V  pitch glide\n",
    "timbre=0\n",
    "timbreSeq=[timbre]\n",
    "normedValSeq=normedValSeq(timbreSeq,0,1,int(numDataPoints))\n",
    "sampledseq=np.array([normedValSeq[i] for i in range(numDataPoints)])\n",
    "\n",
    "lownote=map(60,56,76,0,1)\n",
    "hinote=map(72,56,76,0,1)\n",
    "\n",
    "d1=np.concatenate((np.linspace(lownote,hinote, int(numDataPoints/2), False), np.linspace(hinote,lownote,int(numDataPoints/2),True)))\n",
    "data=[[[d1[i],sampledseq[i]] for i in range(numDataPoints)]]\n",
    "outdir = f'scratch/p0.vglide.2-.8-.2_p1.{timbre}_.npy'\n",
    "save(outdir, data)\n",
    "\n",
    "if False : \n",
    "    #V  Timbre glide\n",
    "    note=map(67,56,76,0,1)\n",
    "    noteSeq=[note]\n",
    "    normedValSeq=normedValSeq(noteSeq,0,1,int(numDataPoints))\n",
    "    sampledseq=np.array([normedValSeq[i] for i in range(numDataPoints)])\n",
    "\n",
    "\n",
    "    d0=np.concatenate((np.linspace(0,1, int(numDataPoints/2), False), np.linspace(1,0,int(numDataPoints/2),True)))\n",
    "    data=[[[sampledseq[i], d0[i]] for i in range(numDataPoints)]]\n",
    "    outdir = f'scratch/p0.{note}_p1.vglide.0-1-0_.npy'\n",
    "    save(outdir, data)\n",
    "\n",
    "\n",
    "\n",
    "   \n",
    "    ###########################  ganSynth #######################################\n",
    "    noteseq=np.array([64,68,71,76,71,68,64])-6\n",
    "    sdurseq=[int(numDataPoints//8) for n in range(len(noteseq))]\n",
    "    sdurseq[-1]=numDataPoints-sum(sdurseq[:-1])\n",
    "    normedValSeq=spread([map(n,58,70,0,1) for n in noteseq], sdurseq) \n",
    "    envPts=envSeq(sdurseq)\n",
    "    instIDs=np.linspace(0,1,numDataPoints,True)\n",
    "    # data=[[[instIDs[i], envPts[i], normedValSeq[i]] for i in range(numDataPoints)]]\n",
    "    # instrument 0\n",
    "    #data=[[[0, envPts[i], normedValSeq[i]] for i in range(numDataPoints)]]\n",
    "    #instrument 1\n",
    "    #data=[[[1, envPts[i], normedValSeq[i]] for i in range(numDataPoints)]]\n",
    "    #instrument 1, constant env=.3\n",
    "    #data=[[[1,.3, normedValSeq[i]] for i in range(numDataPoints)]]\n",
    "\n",
    "    # w/o envPts\n",
    "    #data=[[[1,  normedValSeq[i]] for i in range(numDataPoints)]]\n",
    "    data=[[[instIDs[i], normedValSeq[i]] for i in range(numDataPoints)]]\n",
    "\n",
    "    ########################### oreilly #######################################\n",
    "    # four courners discrete at (0,0) to (1,0), to (1,1) to (0,1) \n",
    "    # go around clockwise\n",
    "    sidelen=numDataPoints//4\n",
    "    d0=np.concatenate((np.linspace(0,0, sidelen, False), np.linspace(1,1,sidelen,False), np.linspace(1,1,sidelen,False), np.linspace(0,0,sidelen,False)))\n",
    "    d1=np.concatenate((np.linspace(0,0, sidelen, False), np.linspace(0,0,sidelen,False), np.linspace(1,1,sidelen,False), np.linspace(1,1,sidelen,False)))\n",
    "    data = [np.stack((d0,d1), 1)]\n",
    "    outdir = \"scratch/discretefourcorners_1000samps.npy\"\n",
    "\n",
    "    # -- arpeggio\n",
    "    noteseq=[64,68,71,76,71,68,64,64]\n",
    "    normedValSeq=normedValSeq(noteseq,64,76,numDataPoints)\n",
    "    #data=[[[aparam, .8, normedValSeq[i]] for i in range(numDataPoints)]]\n",
    "    data=[[[ normedValSeq[i],1] for i in range(numDataPoints)]]\n",
    "    outdir = 'scratch/i1.arpeggio.npy'\n",
    "\n",
    "\n",
    "\n",
    "    # 4 corners contant --------------------------\n",
    "    # note d1 row, d0 is columns \n",
    "\n",
    "    d1=np.zeros((numDataPoints))\n",
    "    d0=np.zeros((numDataPoints))\n",
    "    data = [np.stack((d0,d1), 1)]\n",
    "    outdir = \"scratch/fourcorners_c00.npy\"\n",
    "    save(outdir, data)\n",
    "\n",
    "    d1=np.zeros((numDataPoints))\n",
    "    d0=np.ones((numDataPoints))\n",
    "    data = [np.stack((d0,d1), 1)]\n",
    "    outdir = \"scratch/fourcorners_c01.npy\"\n",
    "    save(outdir, data)\n",
    "\n",
    "    d1=np.ones((numDataPoints))\n",
    "    d0=np.ones((numDataPoints))\n",
    "    data = [np.stack((d0,d1), 1)]\n",
    "    outdir = \"scratch/fourcorners_c11.npy\"\n",
    "    save(outdir, data)\n",
    "\n",
    "    d1=np.ones((numDataPoints))\n",
    "    d0=np.zeros((numDataPoints))\n",
    "    data = [np.stack((d0,d1), 1)]\n",
    "    outdir = \"scratch/fourcorners_c10.npy\"\n",
    "    save(outdir, data)\n",
    "    # 4 corners contant --------------------------\n",
    "\n",
    "\n",
    "\n",
    "    # four courners gliding line from (0,0) to (1,0), to (1,1) to (0,1) and back to (0,0)\n",
    "    sidelen=numDataPoints//4\n",
    "    d0=np.concatenate((np.linspace(0,1, sidelen, False), np.linspace(1,1,sidelen,False), np.linspace(1,0,sidelen,False), np.linspace(0,0,sidelen,False)))\n",
    "    d1=np.concatenate((np.linspace(0,0, sidelen, False), np.linspace(0,1,sidelen,False), np.linspace(1,1,sidelen,False), np.linspace(1,0,sidelen,False)))\n",
    "    data = [np.stack((d0,d1), 1)]\n",
    "    outdir = \"scratch/glidefourcorners_1000samps.npy\"\n",
    "\n",
    "\n",
    "\n",
    "    #2d sin explore\n",
    "    d1=(np.linspace(0,1, numDataPoints, True))\n",
    "    d0=(1+np.cos(d1*np.pi*2*5))/2\n",
    "    data = [np.stack((d0,d1), 1)]\n",
    "    outdir = 'scratch/linVsin_1000samps.npy' # the file name for the generated array to pass to generate.py\n"
   ]
  },
  {
   "cell_type": "code",
   "execution_count": 138,
   "metadata": {},
   "outputs": [],
   "source": [
    "# save to npy file\n",
    "save(outdir, data)"
   ]
  },
  {
   "cell_type": "markdown",
   "metadata": {},
   "source": [
    "## Test our saved parameter file"
   ]
  },
  {
   "cell_type": "code",
   "execution_count": 13,
   "metadata": {},
   "outputs": [
    {
     "data": {
      "text/plain": [
       "2"
      ]
     },
     "execution_count": 13,
     "metadata": {},
     "output_type": "execute_result"
    }
   ],
   "source": [
    "outdir='scratch/p0.vglide.2-.8-.2_p1.1_.npy'\n",
    "#test\n",
    "# load numpy array from npy file\n",
    "from numpy import load\n",
    "# load array\n",
    "datain = load(outdir)\n",
    "#datain=load('scratch/GANsynthArpeggio_basic_1000samps.npy')\n",
    "numParams=len(datain[0,0])\n",
    "numParams"
   ]
  },
  {
   "cell_type": "code",
   "execution_count": 14,
   "metadata": {},
   "outputs": [
    {
     "data": {
      "text/plain": [
       "array([[[0.2       , 1.        ],\n",
       "        [0.2012    , 1.        ],\n",
       "        [0.2024    , 1.        ],\n",
       "        ...,\n",
       "        [0.20240481, 1.        ],\n",
       "        [0.2012024 , 1.        ],\n",
       "        [0.2       , 1.        ]]])"
      ]
     },
     "execution_count": 14,
     "metadata": {},
     "output_type": "execute_result"
    }
   ],
   "source": [
    "datain"
   ]
  },
  {
   "cell_type": "code",
   "execution_count": 15,
   "metadata": {},
   "outputs": [
    {
     "data": {
      "text/plain": [
       "(1, 1000, 2)"
      ]
     },
     "execution_count": 15,
     "metadata": {},
     "output_type": "execute_result"
    }
   ],
   "source": [
    "datain.shape"
   ]
  },
  {
   "cell_type": "code",
   "execution_count": 16,
   "metadata": {},
   "outputs": [
    {
     "data": {
      "text/plain": [
       "array([0.2, 1. ])"
      ]
     },
     "execution_count": 16,
     "metadata": {},
     "output_type": "execute_result"
    }
   ],
   "source": [
    "datain[0,0]"
   ]
  },
  {
   "cell_type": "code",
   "execution_count": 17,
   "metadata": {
    "scrolled": true
   },
   "outputs": [
    {
     "data": {
      "image/png": "[encoded data removed]",
      "text/plain": [
       "<Figure size 432x288 with 1 Axes>"
      ]
     },
     "metadata": {
      "needs_background": "light"
     },
     "output_type": "display_data"
    }
   ],
   "source": [
    "fig, ax = plt.subplots()\n",
    "\n",
    "for pnum in range(numParams) :\n",
    "    ax.plot(t_values, datain[0,:,pnum], label='d'+str(pnum))\n",
    "    \n",
    "#ax.plot(y, color='blue')\n",
    "#ax.plot(z, color='black')\n",
    "ax.legend(loc='upper right', frameon=False)\n",
    "plt.xlabel(\"time (secs)\")\n",
    "plt.ylabel(\"normed param val\")\n",
    "plt.title(\"Realtime parameter controls\")\n",
    "plt.show()"
   ]
  },
  {
   "cell_type": "code",
   "execution_count": null,
   "metadata": {},
   "outputs": [],
   "source": []
  },
  {
   "cell_type": "code",
   "execution_count": null,
   "metadata": {},
   "outputs": [],
   "source": []
  }
 ],
 "metadata": {
  "kernelspec": {
   "display_name": "pytorch",
   "language": "python",
   "name": "pytorch"
  },
  "language_info": {
   "codemirror_mode": {
    "name": "ipython",
    "version": 3
   },
   "file_extension": ".py",
   "mimetype": "text/x-python",
   "name": "python",
   "nbconvert_exporter": "python",
   "pygments_lexer": "ipython3",
   "version": "3.7.9"
  }
 },
 "nbformat": 4,
 "nbformat_minor": 4
}
