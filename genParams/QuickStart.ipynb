{
 "cells": [
  {
   "cell_type": "code",
   "execution_count": 14,
   "metadata": {},
   "outputs": [],
   "source": [
    "import os"
   ]
  },
  {
   "cell_type": "markdown",
   "metadata": {},
   "source": [
    "This file generates parameter for the syntex.sonicthings.org dataset, DS_TokWotalDuet_2.0, with parameters:  hitratio wmratio rate_exp, each using the range [0,1] We don't use the names in creating the array, but the order needs to match the order the params are used in the code.\n",
    "\n",
    "external_array.npy must have the same shape as the input to the model, and have the same number of parameters as the model was trained on.  \n",
    "For example, the third dimension (inner most array) carries each paramter for sample n:  \n",
    "foo = [[['p10', 'p20', 'p30'], .... ,['p1n', 'p2n', 'p3n']]]  \n",
    "\n",
    "The sample rate and length in seconds are up to you, and must be provided in the arguments to generate.py  \n"
   ]
  },
  {
   "cell_type": "code",
   "execution_count": 15,
   "metadata": {},
   "outputs": [],
   "source": [
    "# parameters\n",
    "condsr = 1000 # the sample rate for the generated array to pass to generate.py\n",
    "numsecs = 1 # number of seconds to generate\n",
    "numDataPoints=numsecs*condsr"
   ]
  },
  {
   "cell_type": "code",
   "execution_count": 16,
   "metadata": {},
   "outputs": [],
   "source": [
    "# save numpy array as npy file\n",
    "import numpy as np\n",
    "from numpy import asarray\n",
    "from numpy import save\n",
    "from matplotlib import pyplot as plt"
   ]
  },
  {
   "cell_type": "code",
   "execution_count": 17,
   "metadata": {},
   "outputs": [],
   "source": [
    "#utility\n",
    "def map(x,a,b,m,n) :\n",
    "    return m + (n-m)*(x-a)/(b-a)"
   ]
  },
  {
   "cell_type": "code",
   "execution_count": 18,
   "metadata": {},
   "outputs": [],
   "source": [
    "# functions for conditioning parameter gestures\n",
    "# These control sequences get upsampled to audiosr in the generate.py code, so don't need high sr here.\n",
    "def linear(x, m, b=0) :\n",
    "    return m*x+b  \n",
    "\n",
    "def gaussian(x, mu, sig):\n",
    "    return np.exp(-np.power(x - mu, 2.) / (2 * np.power(sig, 2.)))\n",
    "\n",
    "def step(x, a, b, m, n, numsteps) :  # 1 means function in constant, \n",
    "    assert numsteps > 0\n",
    "    stepLen=(b-a)/numsteps\n",
    "    stepNum=(x-a)//stepLen\n",
    "    stepHeight=467 if (numsteps == 0) else (n-m)/(numsteps-1)\n",
    "    return m+stepNum*stepHeight\n"
   ]
  },
  {
   "cell_type": "code",
   "execution_count": 20,
   "metadata": {},
   "outputs": [],
   "source": [
    "################################################################################\n",
    "## Quickstart\n",
    "dataset=\"Pops\"\n",
    "\n",
    "if dataset==\"TokWotal\" :\n",
    "    p=\"run/QuickStart_tokwotal\"\n",
    "    if not os.path.exists(p):\n",
    "        os.makedirs(p)\n",
    "    x_values = np.linspace(1, 0, numDataPoints) #linspace is inclusive of endpoint\n",
    "    for n in [.75, .25] :\n",
    "        #        hitratio wmratio rate_exp\n",
    "        data = [[[.8,     .75,       x] for x in x_values]]\n",
    "        \n",
    "        outdir = f\"{p}/quickstart_wmratio{n}.npy\"\n",
    "        save(outdir, data)\n",
    "\n",
    "if dataset==\"Pops\" :\n",
    "    p=\"run/QuickStart_pops\"\n",
    "    if not os.path.exists(p):\n",
    "        os.makedirs(p)\n",
    "    x_values = np.linspace(1, 0, numDataPoints) #linspace is inclusive of endpoint\n",
    "    #        rate\n",
    "    data = [[[x] for x in x_values]]\n",
    "    outdir = f\"{p}/rateglide.npy\"\n",
    "    save(outdir, data)\n"
   ]
  },
  {
   "cell_type": "markdown",
   "metadata": {},
   "source": [
    "## Test our saved parameter file"
   ]
  },
  {
   "cell_type": "code",
   "execution_count": 21,
   "metadata": {},
   "outputs": [
    {
     "data": {
      "text/plain": [
       "1"
      ]
     },
     "execution_count": 21,
     "metadata": {},
     "output_type": "execute_result"
    }
   ],
   "source": [
    "#test\n",
    "# load numpy array from npy file\n",
    "from numpy import load\n",
    "# load array\n",
    "datain = load(outdir)\n",
    "#datain=load('scratch/GANsynthArpeggio_basic_1000samps.npy')\n",
    "numParams=len(datain[0,0])\n",
    "numParams"
   ]
  },
  {
   "cell_type": "code",
   "execution_count": 22,
   "metadata": {},
   "outputs": [],
   "source": [
    "#datain"
   ]
  },
  {
   "cell_type": "code",
   "execution_count": 23,
   "metadata": {},
   "outputs": [
    {
     "data": {
      "text/plain": [
       "(1, 1000, 1)"
      ]
     },
     "execution_count": 23,
     "metadata": {},
     "output_type": "execute_result"
    }
   ],
   "source": [
    "datain.shape"
   ]
  },
  {
   "cell_type": "code",
   "execution_count": 24,
   "metadata": {},
   "outputs": [
    {
     "data": {
      "text/plain": [
       "array([1.])"
      ]
     },
     "execution_count": 24,
     "metadata": {},
     "output_type": "execute_result"
    }
   ],
   "source": [
    "datain[0,0]"
   ]
  },
  {
   "cell_type": "code",
   "execution_count": 25,
   "metadata": {
    "scrolled": true
   },
   "outputs": [
    {
     "data": {
      "image/png": "[encoded data removed]",
      "text/plain": [
       "<Figure size 432x288 with 1 Axes>"
      ]
     },
     "metadata": {
      "needs_background": "light"
     },
     "output_type": "display_data"
    }
   ],
   "source": [
    "# for plotting in time\n",
    "t_values = np.linspace(0, numsecs, numDataPoints) #linspace is inclusive of endpoints\n",
    "\n",
    "fig, ax = plt.subplots()\n",
    "\n",
    "for pnum in range(numParams) :\n",
    "    ax.plot(t_values, datain[0,:,pnum], label='d'+str(pnum))\n",
    "    \n",
    "#ax.plot(y, color='blue')\n",
    "#ax.plot(z, color='black')\n",
    "ax.legend(loc='upper right', frameon=False)\n",
    "plt.xlabel(\"time (secs)\")\n",
    "plt.ylabel(\"normed param val\")\n",
    "plt.title(\"Realtime parameter controls\")\n",
    "plt.show()"
   ]
  },
  {
   "cell_type": "code",
   "execution_count": null,
   "metadata": {},
   "outputs": [],
   "source": []
  },
  {
   "cell_type": "code",
   "execution_count": null,
   "metadata": {},
   "outputs": [],
   "source": []
  }
 ],
 "metadata": {
  "kernelspec": {
   "display_name": "pytorch",
   "language": "python",
   "name": "pytorch"
  },
  "language_info": {
   "codemirror_mode": {
    "name": "ipython",
    "version": 3
   },
   "file_extension": ".py",
   "mimetype": "text/x-python",
   "name": "python",
   "nbconvert_exporter": "python",
   "pygments_lexer": "ipython3",
   "version": "3.7.9"
  }
 },
 "nbformat": 4,
 "nbformat_minor": 4
}
