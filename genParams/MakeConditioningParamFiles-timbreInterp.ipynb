{
 "cells": [
  {
   "cell_type": "markdown",
   "metadata": {},
   "source": [
    "external_array.npy must have the same shape as the input to the model, and have the same number of parameters as the model was trained on.  \n",
    "For example, the third dimension (inner most array) carries each paramter for a specific time:  \n",
    "foo = [[['p10', 'p20'], ['p11', 'p21'],['p12', 'p22'] ,['p13', 'p23']]]  \n",
    "  \n",
    "The sample rate and length in seconds are up to you, and must be provided in the arguments to generate.py"
   ]
  },
  {
   "cell_type": "code",
   "execution_count": 1,
   "metadata": {},
   "outputs": [],
   "source": [
    "\n",
    "condsr = 1000 # the sample rate for the generated array to pass to generate.py\n",
    "\n",
    "numsecs = 1 # number of seconds to generate"
   ]
  },
  {
   "cell_type": "code",
   "execution_count": 2,
   "metadata": {},
   "outputs": [],
   "source": [
    "numDataPoints=numsecs*condsr"
   ]
  },
  {
   "cell_type": "code",
   "execution_count": 3,
   "metadata": {},
   "outputs": [],
   "source": [
    "# save numpy array as npy file\n",
    "import numpy as np\n",
    "from numpy import asarray\n",
    "from numpy import save\n",
    "# define data\n",
    "# data = asarray([[0, 1, 2, 3, 4, 5, 6, 7, 8, 9]])\n",
    "\n",
    "from matplotlib import pyplot as plt\n"
   ]
  },
  {
   "cell_type": "code",
   "execution_count": 4,
   "metadata": {},
   "outputs": [],
   "source": [
    "#utility\n",
    "def map(x,a,b,m,n) :\n",
    "    return m + (n-m)*(x-a)/(b-a)"
   ]
  },
  {
   "cell_type": "code",
   "execution_count": 5,
   "metadata": {},
   "outputs": [],
   "source": [
    "# for plotting in time\n",
    "t_values = np.linspace(0, numsecs, numDataPoints) #linspace is inclusive of endpoints\n"
   ]
  },
  {
   "cell_type": "code",
   "execution_count": 6,
   "metadata": {},
   "outputs": [],
   "source": [
    "# functions for conditioning parameter gestures\n",
    "# These control sequences get upsampled to audiosr in the generate.py code, so don't need high sr here.\n",
    "def linear(x, m, b=0) :\n",
    "    return m*x+b  \n",
    "\n",
    "def gaussian(x, mu, sig):\n",
    "    return np.exp(-np.power(x - mu, 2.) / (2 * np.power(sig, 2.)))\n",
    "\n",
    "def step(x, a, b, m, n, numsteps) :  # 1 means function in constant, \n",
    "    assert numsteps > 0\n",
    "    stepLen=(b-a)/numsteps\n",
    "    stepNum=(x-a)//stepLen\n",
    "    stepHeight=467 if (numsteps == 0) else (n-m)/(numsteps-1)\n",
    "    return m+stepNum*stepHeight\n",
    "\n",
    "\n",
    "'''\n",
    "arr elements must be in [plow, phigh] \n",
    "'''\n",
    "def normedNoteSeq(arr, plow, phigh, samps) :\n",
    "    farr=[(n-plow)/(phigh-plow) for n in arr]\n",
    "    alen=len(farr)\n",
    "    fsampspernote=samps/alen\n",
    "    # each note will have an duration equal to the rest within 1 sample\n",
    "    return [farr[int((n)//fsampspernote)] for n in range(samps)]\n",
    "\n",
    "'''\n",
    "This creates a sequence of length sum(durseq), where each element in shorseq \n",
    "is duplicated by the correspeonding number in durseq.\n",
    "'''\n",
    "def spread(shortseq,durseq) :\n",
    "    out=np.empty(0)\n",
    "    for n in range(len(durseq)) :\n",
    "        out = np.append(out, np.full(durseq[n],shortseq[n]))\n",
    "    return out\n",
    "\n",
    "\n",
    "'''\n",
    "This creates a sequence of linear 0-1 interpolates of durations specified by durseq.\n",
    "'''\n",
    "def envSeq(durseq) :\n",
    "    out=np.empty(0)\n",
    "    for n in range(len(durseq)) :\n",
    "        out = np.append(out, np.linspace(0,1,durseq[n],True))\n",
    "    return out\n",
    "        "
   ]
  },
  {
   "cell_type": "code",
   "execution_count": 7,
   "metadata": {},
   "outputs": [
    {
     "name": "stdout",
     "output_type": "stream",
     "text": [
      "will write to dir scratch/timbreInterp/inst_0_pitch_4.npy\n",
      "will write to dir scratch/timbreInterp/inst_2_pitch_4.npy\n",
      "will write to dir scratch/timbreInterp/inst_4_pitch_4.npy\n",
      "will write to dir scratch/timbreInterp/inst_6_pitch_4.npy\n",
      "will write to dir scratch/timbreInterp/inst_8_pitch_4.npy\n",
      "will write to dir scratch/timbreInterp/inst_10_pitch_4.npy\n",
      "will write to dir scratch/timbreInterp/inst_12_pitch_4.npy\n",
      "will write to dir scratch/timbreInterp/inst_14_pitch_4.npy\n",
      "will write to dir scratch/timbreInterp/inst_16_pitch_4.npy\n",
      "will write to dir scratch/timbreInterp/inst_18_pitch_4.npy\n",
      "will write to dir scratch/timbreInterp/inst_20_pitch_4.npy\n",
      "will write to dir scratch/timbreInterp/inst_0_pitch_5.npy\n",
      "will write to dir scratch/timbreInterp/inst_2_pitch_5.npy\n",
      "will write to dir scratch/timbreInterp/inst_4_pitch_5.npy\n",
      "will write to dir scratch/timbreInterp/inst_6_pitch_5.npy\n",
      "will write to dir scratch/timbreInterp/inst_8_pitch_5.npy\n",
      "will write to dir scratch/timbreInterp/inst_10_pitch_5.npy\n",
      "will write to dir scratch/timbreInterp/inst_12_pitch_5.npy\n",
      "will write to dir scratch/timbreInterp/inst_14_pitch_5.npy\n",
      "will write to dir scratch/timbreInterp/inst_16_pitch_5.npy\n",
      "will write to dir scratch/timbreInterp/inst_18_pitch_5.npy\n",
      "will write to dir scratch/timbreInterp/inst_20_pitch_5.npy\n",
      "will write to dir scratch/timbreInterp/inst_0_pitch_6.npy\n",
      "will write to dir scratch/timbreInterp/inst_2_pitch_6.npy\n",
      "will write to dir scratch/timbreInterp/inst_4_pitch_6.npy\n",
      "will write to dir scratch/timbreInterp/inst_6_pitch_6.npy\n",
      "will write to dir scratch/timbreInterp/inst_8_pitch_6.npy\n",
      "will write to dir scratch/timbreInterp/inst_10_pitch_6.npy\n",
      "will write to dir scratch/timbreInterp/inst_12_pitch_6.npy\n",
      "will write to dir scratch/timbreInterp/inst_14_pitch_6.npy\n",
      "will write to dir scratch/timbreInterp/inst_16_pitch_6.npy\n",
      "will write to dir scratch/timbreInterp/inst_18_pitch_6.npy\n",
      "will write to dir scratch/timbreInterp/inst_20_pitch_6.npy\n",
      "will write to dir scratch/timbreInterp/inst_0_pitch_7.npy\n",
      "will write to dir scratch/timbreInterp/inst_2_pitch_7.npy\n",
      "will write to dir scratch/timbreInterp/inst_4_pitch_7.npy\n",
      "will write to dir scratch/timbreInterp/inst_6_pitch_7.npy\n",
      "will write to dir scratch/timbreInterp/inst_8_pitch_7.npy\n",
      "will write to dir scratch/timbreInterp/inst_10_pitch_7.npy\n",
      "will write to dir scratch/timbreInterp/inst_12_pitch_7.npy\n",
      "will write to dir scratch/timbreInterp/inst_14_pitch_7.npy\n",
      "will write to dir scratch/timbreInterp/inst_16_pitch_7.npy\n",
      "will write to dir scratch/timbreInterp/inst_18_pitch_7.npy\n",
      "will write to dir scratch/timbreInterp/inst_20_pitch_7.npy\n",
      "will write to dir scratch/timbreInterp/inst_0_pitch_8.npy\n",
      "will write to dir scratch/timbreInterp/inst_2_pitch_8.npy\n",
      "will write to dir scratch/timbreInterp/inst_4_pitch_8.npy\n",
      "will write to dir scratch/timbreInterp/inst_6_pitch_8.npy\n",
      "will write to dir scratch/timbreInterp/inst_8_pitch_8.npy\n",
      "will write to dir scratch/timbreInterp/inst_10_pitch_8.npy\n",
      "will write to dir scratch/timbreInterp/inst_12_pitch_8.npy\n",
      "will write to dir scratch/timbreInterp/inst_14_pitch_8.npy\n",
      "will write to dir scratch/timbreInterp/inst_16_pitch_8.npy\n",
      "will write to dir scratch/timbreInterp/inst_18_pitch_8.npy\n",
      "will write to dir scratch/timbreInterp/inst_20_pitch_8.npy\n",
      "will write to dir scratch/timbreInterp/inst_0_pitch_9.npy\n",
      "will write to dir scratch/timbreInterp/inst_2_pitch_9.npy\n",
      "will write to dir scratch/timbreInterp/inst_4_pitch_9.npy\n",
      "will write to dir scratch/timbreInterp/inst_6_pitch_9.npy\n",
      "will write to dir scratch/timbreInterp/inst_8_pitch_9.npy\n",
      "will write to dir scratch/timbreInterp/inst_10_pitch_9.npy\n",
      "will write to dir scratch/timbreInterp/inst_12_pitch_9.npy\n",
      "will write to dir scratch/timbreInterp/inst_14_pitch_9.npy\n",
      "will write to dir scratch/timbreInterp/inst_16_pitch_9.npy\n",
      "will write to dir scratch/timbreInterp/inst_18_pitch_9.npy\n",
      "will write to dir scratch/timbreInterp/inst_20_pitch_9.npy\n",
      "will write to dir scratch/timbreInterp/inst_0_pitch_10.npy\n",
      "will write to dir scratch/timbreInterp/inst_2_pitch_10.npy\n",
      "will write to dir scratch/timbreInterp/inst_4_pitch_10.npy\n",
      "will write to dir scratch/timbreInterp/inst_6_pitch_10.npy\n",
      "will write to dir scratch/timbreInterp/inst_8_pitch_10.npy\n",
      "will write to dir scratch/timbreInterp/inst_10_pitch_10.npy\n",
      "will write to dir scratch/timbreInterp/inst_12_pitch_10.npy\n",
      "will write to dir scratch/timbreInterp/inst_14_pitch_10.npy\n",
      "will write to dir scratch/timbreInterp/inst_16_pitch_10.npy\n",
      "will write to dir scratch/timbreInterp/inst_18_pitch_10.npy\n",
      "will write to dir scratch/timbreInterp/inst_20_pitch_10.npy\n",
      "will write to dir scratch/timbreInterp/inst_0_pitch_11.npy\n",
      "will write to dir scratch/timbreInterp/inst_2_pitch_11.npy\n",
      "will write to dir scratch/timbreInterp/inst_4_pitch_11.npy\n",
      "will write to dir scratch/timbreInterp/inst_6_pitch_11.npy\n",
      "will write to dir scratch/timbreInterp/inst_8_pitch_11.npy\n",
      "will write to dir scratch/timbreInterp/inst_10_pitch_11.npy\n",
      "will write to dir scratch/timbreInterp/inst_12_pitch_11.npy\n",
      "will write to dir scratch/timbreInterp/inst_14_pitch_11.npy\n",
      "will write to dir scratch/timbreInterp/inst_16_pitch_11.npy\n",
      "will write to dir scratch/timbreInterp/inst_18_pitch_11.npy\n",
      "will write to dir scratch/timbreInterp/inst_20_pitch_11.npy\n",
      "will write to dir scratch/timbreInterp/inst_0_pitch_12.npy\n",
      "will write to dir scratch/timbreInterp/inst_2_pitch_12.npy\n",
      "will write to dir scratch/timbreInterp/inst_4_pitch_12.npy\n",
      "will write to dir scratch/timbreInterp/inst_6_pitch_12.npy\n",
      "will write to dir scratch/timbreInterp/inst_8_pitch_12.npy\n",
      "will write to dir scratch/timbreInterp/inst_10_pitch_12.npy\n",
      "will write to dir scratch/timbreInterp/inst_12_pitch_12.npy\n",
      "will write to dir scratch/timbreInterp/inst_14_pitch_12.npy\n",
      "will write to dir scratch/timbreInterp/inst_16_pitch_12.npy\n",
      "will write to dir scratch/timbreInterp/inst_18_pitch_12.npy\n",
      "will write to dir scratch/timbreInterp/inst_20_pitch_12.npy\n",
      "will write to dir scratch/timbreInterp/inst_0_pitch_13.npy\n",
      "will write to dir scratch/timbreInterp/inst_2_pitch_13.npy\n",
      "will write to dir scratch/timbreInterp/inst_4_pitch_13.npy\n",
      "will write to dir scratch/timbreInterp/inst_6_pitch_13.npy\n",
      "will write to dir scratch/timbreInterp/inst_8_pitch_13.npy\n",
      "will write to dir scratch/timbreInterp/inst_10_pitch_13.npy\n",
      "will write to dir scratch/timbreInterp/inst_12_pitch_13.npy\n",
      "will write to dir scratch/timbreInterp/inst_14_pitch_13.npy\n",
      "will write to dir scratch/timbreInterp/inst_16_pitch_13.npy\n",
      "will write to dir scratch/timbreInterp/inst_18_pitch_13.npy\n",
      "will write to dir scratch/timbreInterp/inst_20_pitch_13.npy\n",
      "will write to dir scratch/timbreInterp/inst_0_pitch_14.npy\n",
      "will write to dir scratch/timbreInterp/inst_2_pitch_14.npy\n",
      "will write to dir scratch/timbreInterp/inst_4_pitch_14.npy\n",
      "will write to dir scratch/timbreInterp/inst_6_pitch_14.npy\n",
      "will write to dir scratch/timbreInterp/inst_8_pitch_14.npy\n",
      "will write to dir scratch/timbreInterp/inst_10_pitch_14.npy\n",
      "will write to dir scratch/timbreInterp/inst_12_pitch_14.npy\n",
      "will write to dir scratch/timbreInterp/inst_14_pitch_14.npy\n",
      "will write to dir scratch/timbreInterp/inst_16_pitch_14.npy\n",
      "will write to dir scratch/timbreInterp/inst_18_pitch_14.npy\n",
      "will write to dir scratch/timbreInterp/inst_20_pitch_14.npy\n",
      "will write to dir scratch/timbreInterp/inst_0_pitch_15.npy\n",
      "will write to dir scratch/timbreInterp/inst_2_pitch_15.npy\n",
      "will write to dir scratch/timbreInterp/inst_4_pitch_15.npy\n",
      "will write to dir scratch/timbreInterp/inst_6_pitch_15.npy\n",
      "will write to dir scratch/timbreInterp/inst_8_pitch_15.npy\n",
      "will write to dir scratch/timbreInterp/inst_10_pitch_15.npy\n",
      "will write to dir scratch/timbreInterp/inst_12_pitch_15.npy\n",
      "will write to dir scratch/timbreInterp/inst_14_pitch_15.npy\n",
      "will write to dir scratch/timbreInterp/inst_16_pitch_15.npy\n",
      "will write to dir scratch/timbreInterp/inst_18_pitch_15.npy\n",
      "will write to dir scratch/timbreInterp/inst_20_pitch_15.npy\n",
      "will write to dir scratch/timbreInterp/inst_0_pitch_16.npy\n",
      "will write to dir scratch/timbreInterp/inst_2_pitch_16.npy\n",
      "will write to dir scratch/timbreInterp/inst_4_pitch_16.npy\n",
      "will write to dir scratch/timbreInterp/inst_6_pitch_16.npy\n",
      "will write to dir scratch/timbreInterp/inst_8_pitch_16.npy\n",
      "will write to dir scratch/timbreInterp/inst_10_pitch_16.npy\n",
      "will write to dir scratch/timbreInterp/inst_12_pitch_16.npy\n",
      "will write to dir scratch/timbreInterp/inst_14_pitch_16.npy\n",
      "will write to dir scratch/timbreInterp/inst_16_pitch_16.npy\n",
      "will write to dir scratch/timbreInterp/inst_18_pitch_16.npy\n",
      "will write to dir scratch/timbreInterp/inst_20_pitch_16.npy\n"
     ]
    }
   ],
   "source": [
    "# This is for the \"Inception\" experiment with RNNs and GANs\n",
    "#NOTE : only generating one data point for each parameter setting\n",
    "#noteseq=[64,65,66,67,68,69,70,71,72,73,74,75,76]\n",
    "###noteseq=[64,71]\n",
    "###numInstSteps=900 # should be divisible by numInstClasses to get equal numbr of elements in each\n",
    "###numInstClasses=3\n",
    "noteseq=[60,61, 62, 63, 64, 65, 66, 67, 68, 69, 70, 71,72]\n",
    "numInstSteps=11 # should be divisible by numInstClasses to get equal numbr of elements in each\n",
    "numInstClasses=11\n",
    "for n in noteseq :\n",
    "    normednote=map(n,56,76,0,1) #for param file\n",
    "    for inst in np.linspace(0,1,numInstSteps,True) :\n",
    "        data=[[[ normednote,inst], [ normednote,inst]]] #2 data points, both the same for beg and end\n",
    "        # revers inst/pitch order to match GAN output file name convention\n",
    "        outdir = f'scratch/timbreInterp/inst_{int(20*inst)}_pitch_{n-56}.npy'\n",
    "        print(f'will write to dir {outdir}')\n",
    "        save(outdir, data)\n"
   ]
  },
  {
   "cell_type": "code",
   "execution_count": 8,
   "metadata": {},
   "outputs": [
    {
     "data": {
      "text/plain": [
       "2"
      ]
     },
     "execution_count": 8,
     "metadata": {},
     "output_type": "execute_result"
    }
   ],
   "source": [
    "#test\n",
    "# load numpy array from npy file\n",
    "from numpy import load\n",
    "# load array\n",
    "datain = load('scratch/timbreInterp/inst_4_pitch_16.npy')\n",
    "#datain=load('scratch/GANsynthArpeggio_basic_1000samps.npy')\n",
    "numParams=len(datain[0,0])\n",
    "numParams"
   ]
  },
  {
   "cell_type": "code",
   "execution_count": 9,
   "metadata": {},
   "outputs": [
    {
     "data": {
      "text/plain": [
       "array([[[0.8, 0.2],\n",
       "        [0.8, 0.2]]])"
      ]
     },
     "execution_count": 9,
     "metadata": {},
     "output_type": "execute_result"
    }
   ],
   "source": [
    "datain"
   ]
  },
  {
   "cell_type": "code",
   "execution_count": 10,
   "metadata": {},
   "outputs": [
    {
     "data": {
      "text/plain": [
       "array([0.8, 0.2])"
      ]
     },
     "execution_count": 10,
     "metadata": {},
     "output_type": "execute_result"
    }
   ],
   "source": [
    "datain[0,0]"
   ]
  },
  {
   "cell_type": "code",
   "execution_count": null,
   "metadata": {},
   "outputs": [],
   "source": []
  },
  {
   "cell_type": "code",
   "execution_count": null,
   "metadata": {},
   "outputs": [],
   "source": []
  }
 ],
 "metadata": {
  "kernelspec": {
   "display_name": "pytorch",
   "language": "python",
   "name": "pytorch"
  },
  "language_info": {
   "codemirror_mode": {
    "name": "ipython",
    "version": 3
   },
   "file_extension": ".py",
   "mimetype": "text/x-python",
   "name": "python",
   "nbconvert_exporter": "python",
   "pygments_lexer": "ipython3",
   "version": "3.7.9"
  }
 },
 "nbformat": 4,
 "nbformat_minor": 4
}
